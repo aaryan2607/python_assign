{
 "cells": [
  {
   "cell_type": "code",
   "execution_count": 1,
   "id": "8b42d2a0-6c26-4615-9e52-838c94d3900b",
   "metadata": {},
   "outputs": [],
   "source": [
    "# Q1 Explain the key features of Python that make it a popular choice for programming.\n",
    "\n",
    "\n",
    "#Python is popular programming language for web and software development.Many popular applications are built using python.Several key features of \n",
    "#that make it popular choice for programming are:-\n",
    "#1. Widely used in industry:-Python used in many industries like web development, data science, data analytics, machine learning etc.It is used because\n",
    "#of its high level of functionality.\n",
    "\n",
    "#2. A lot of libraries of python:- Python has mare than 137000 numbers of libraries.\n",
    "\n",
    "#3. Frontened, backend data analysis:- It is the technique to collecting and transforming data to make predictions and informed data driven descions.\n",
    "\n",
    "#4. Automation:- Python is used for automation by writing scripts.\n",
    "\n",
    "#5. Databases:-Python has several basic data types that are built into languages that are numeric values, text, binary data and boolean values.\n",
    "\n",
    "#6. Ease of learning:-Python is very easy to learn, you can run each line of code and check it and also make adjustments.\n",
    "\n",
    "#7. Versatality:- Python is very versatile for coding and for scripting tasks.\n",
    "\n",
    "#8. Huge active community:- Python has a huge active community working\n",
    "\n",
    "#9. Industry Adoption:-python is industry adopted laanguage and has many job oppurtunities."
   ]
  },
  {
   "cell_type": "code",
   "execution_count": 2,
   "id": "4ee3b147-302c-431c-9f5d-a86eaafc39a3",
   "metadata": {},
   "outputs": [
    {
     "name": "stdout",
     "output_type": "stream",
     "text": [
      "\n",
      "Here is a list of the Python keywords.  Enter any keyword to get more help.\n",
      "\n",
      "False               class               from                or\n",
      "None                continue            global              pass\n",
      "True                def                 if                  raise\n",
      "and                 del                 import              return\n",
      "as                  elif                in                  try\n",
      "assert              else                is                  while\n",
      "async               except              lambda              with\n",
      "await               finally             nonlocal            yield\n",
      "break               for                 not                 \n",
      "\n"
     ]
    }
   ],
   "source": [
    "# Q2 Describe the role of predefined keywords in Python and provide examples of how they are used in a programme.\n",
    "\n",
    "#Predefined keywords in Pythonare predefined, reserved words used in Python programming that have special meanings to the compiler. We cannot use a \n",
    "#keyword as a variable name, function name, or any other identifier. They are used to define the syntax and structure of the Python\n",
    "help('keywords')"
   ]
  },
  {
   "cell_type": "code",
   "execution_count": 3,
   "id": "edca836f-ce21-444c-b418-5141ecc5b794",
   "metadata": {},
   "outputs": [
    {
     "name": "stdout",
     "output_type": "stream",
     "text": [
      "hello world\n"
     ]
    }
   ],
   "source": [
    "print(\"hello world\")"
   ]
  },
  {
   "cell_type": "code",
   "execution_count": 4,
   "id": "f287ed62-0a81-4d1a-b270-293f8c7fec6a",
   "metadata": {},
   "outputs": [
    {
     "name": "stdout",
     "output_type": "stream",
     "text": [
      "this is a room temp\n"
     ]
    }
   ],
   "source": [
    "#if\n",
    "temp=25\n",
    "if temp==25:\n",
    "    print(\"this is a room temp\")"
   ]
  },
  {
   "cell_type": "code",
   "execution_count": 5,
   "id": "25934ab9-9e71-456c-a36d-25fa76d3c99c",
   "metadata": {},
   "outputs": [
    {
     "data": {
      "text/plain": [
       "int"
      ]
     },
     "execution_count": 5,
     "metadata": {},
     "output_type": "execute_result"
    }
   ],
   "source": [
    "i = 180\n",
    "type(i)"
   ]
  },
  {
   "cell_type": "code",
   "execution_count": 6,
   "id": "9e6c93c0-0842-4a87-92a7-884de5abaf59",
   "metadata": {},
   "outputs": [
    {
     "data": {
      "text/plain": [
       "['cabbage', 'capsicum', 'brinjal', 3, (5+7j), False, 204.4342]"
      ]
     },
     "execution_count": 6,
     "metadata": {},
     "output_type": "execute_result"
    }
   ],
   "source": [
    "# Q3 Compare and contrast mutable and immutable objects in Python with examples.\n",
    "\n",
    "#Mutable Objects:- The object or containers which can be changed after they are created are called mutable objects.\n",
    "#for example:-\n",
    "i = [\"cabbage\",\"capsicum\",\"brinjal\",3,5+7j,False,204.4342]\n",
    "i"
   ]
  },
  {
   "cell_type": "code",
   "execution_count": 7,
   "id": "09c65781-9d6a-4797-9340-6469e08533ad",
   "metadata": {},
   "outputs": [
    {
     "data": {
      "text/plain": [
       "['cabbage', 'capsicum', 'potato', 3, (5+7j), False, 204.4342]"
      ]
     },
     "execution_count": 7,
     "metadata": {},
     "output_type": "execute_result"
    }
   ],
   "source": [
    "i[2]=\"potato\"\n",
    "i\n",
    "# i[2] that is brinjal is replaced with potato."
   ]
  },
  {
   "cell_type": "code",
   "execution_count": 8,
   "id": "d0c4afc9-ce99-4ea7-9ea7-b08dc554c85c",
   "metadata": {},
   "outputs": [
    {
     "data": {
      "text/plain": [
       "'a'"
      ]
     },
     "execution_count": 8,
     "metadata": {},
     "output_type": "execute_result"
    }
   ],
   "source": [
    "#Immutability:- Objects or containers which can not be changed after they are created are called immutable.\n",
    "#for example\n",
    "i=\"aaryan\"\n",
    "i[0]"
   ]
  },
  {
   "cell_type": "code",
   "execution_count": 9,
   "id": "e3bc0de4-3326-41af-a5c9-d03fe6611049",
   "metadata": {},
   "outputs": [
    {
     "ename": "TypeError",
     "evalue": "'str' object does not support item assignment",
     "output_type": "error",
     "traceback": [
      "\u001b[0;31m---------------------------------------------------------------------------\u001b[0m",
      "\u001b[0;31mTypeError\u001b[0m                                 Traceback (most recent call last)",
      "Cell \u001b[0;32mIn[9], line 1\u001b[0m\n\u001b[0;32m----> 1\u001b[0m \u001b[43mi\u001b[49m\u001b[43m[\u001b[49m\u001b[38;5;241;43m0\u001b[39;49m\u001b[43m]\u001b[49m\u001b[38;5;241m=\u001b[39m\u001b[38;5;124m\"\u001b[39m\u001b[38;5;124mp\u001b[39m\u001b[38;5;124m\"\u001b[39m\n\u001b[1;32m      2\u001b[0m \u001b[38;5;66;03m#this is immutable that's why an error occurs.\u001b[39;00m\n",
      "\u001b[0;31mTypeError\u001b[0m: 'str' object does not support item assignment"
     ]
    }
   ],
   "source": [
    "i[0]=\"p\"\n",
    "#this is immutable that's why an error occurs."
   ]
  },
  {
   "cell_type": "code",
   "execution_count": 10,
   "id": "57d988a9-e936-45a1-a554-08451c8abcda",
   "metadata": {},
   "outputs": [
    {
     "data": {
      "text/plain": [
       "15"
      ]
     },
     "execution_count": 10,
     "metadata": {},
     "output_type": "execute_result"
    }
   ],
   "source": [
    "# Q4 Discuss the different types of operators in Python and provide examples how they are used.\n",
    "\n",
    "#Special type of keywords that are used to perform operations are called operators.\n",
    "#arithematic operator\n",
    "a = 8\n",
    "b = 7\n",
    "a+b"
   ]
  },
  {
   "cell_type": "code",
   "execution_count": 11,
   "id": "07b9fcf8-44f3-45b8-97da-6914e6871652",
   "metadata": {},
   "outputs": [
    {
     "data": {
      "text/plain": [
       "1"
      ]
     },
     "execution_count": 11,
     "metadata": {},
     "output_type": "execute_result"
    }
   ],
   "source": [
    "a-b"
   ]
  },
  {
   "cell_type": "code",
   "execution_count": 12,
   "id": "ce0530b4-211b-4991-b964-3424feb92b84",
   "metadata": {},
   "outputs": [
    {
     "data": {
      "text/plain": [
       "56"
      ]
     },
     "execution_count": 12,
     "metadata": {},
     "output_type": "execute_result"
    }
   ],
   "source": [
    "a*b"
   ]
  },
  {
   "cell_type": "code",
   "execution_count": 13,
   "id": "0726d0d9-ad45-4d1c-84d5-0f2a7789e206",
   "metadata": {},
   "outputs": [
    {
     "data": {
      "text/plain": [
       "1.1428571428571428"
      ]
     },
     "execution_count": 13,
     "metadata": {},
     "output_type": "execute_result"
    }
   ],
   "source": [
    "a/b"
   ]
  },
  {
   "cell_type": "code",
   "execution_count": 15,
   "id": "295d698f-ec69-4f13-9a4e-129eed52df3b",
   "metadata": {},
   "outputs": [
    {
     "data": {
      "text/plain": [
       "0"
      ]
     },
     "execution_count": 15,
     "metadata": {},
     "output_type": "execute_result"
    }
   ],
   "source": [
    "#modulus operator>> It is a way to determine the remainder of a division operation.\n",
    "16%4"
   ]
  },
  {
   "cell_type": "code",
   "execution_count": 16,
   "id": "1f227d0a-301f-4de7-a108-d837d4360b46",
   "metadata": {},
   "outputs": [
    {
     "data": {
      "text/plain": [
       "19683"
      ]
     },
     "execution_count": 16,
     "metadata": {},
     "output_type": "execute_result"
    }
   ],
   "source": [
    "3**9"
   ]
  },
  {
   "cell_type": "code",
   "execution_count": 17,
   "id": "a7217605-683d-438c-bb73-18f4c48ba194",
   "metadata": {},
   "outputs": [
    {
     "data": {
      "text/plain": [
       "1"
      ]
     },
     "execution_count": 17,
     "metadata": {},
     "output_type": "execute_result"
    }
   ],
   "source": [
    "5//3"
   ]
  },
  {
   "cell_type": "code",
   "execution_count": 18,
   "id": "3fcc634c-7489-4560-b6f1-7b79ffc8e5c4",
   "metadata": {},
   "outputs": [
    {
     "data": {
      "text/plain": [
       "False"
      ]
     },
     "execution_count": 18,
     "metadata": {},
     "output_type": "execute_result"
    }
   ],
   "source": [
    "#logical operator>> logical operators are used to combine multiple conditions together and evaluate them as a single boolean expression.\n",
    "#and\n",
    "False and False"
   ]
  },
  {
   "cell_type": "code",
   "execution_count": 19,
   "id": "92d47397-e58d-43fa-9cf2-792b6d966079",
   "metadata": {},
   "outputs": [
    {
     "data": {
      "text/plain": [
       "False"
      ]
     },
     "execution_count": 19,
     "metadata": {},
     "output_type": "execute_result"
    }
   ],
   "source": [
    "True and False"
   ]
  },
  {
   "cell_type": "code",
   "execution_count": 20,
   "id": "ce2fb5d6-aeef-4167-9ee1-2ba0b00325d0",
   "metadata": {},
   "outputs": [
    {
     "data": {
      "text/plain": [
       "True"
      ]
     },
     "execution_count": 20,
     "metadata": {},
     "output_type": "execute_result"
    }
   ],
   "source": [
    "True and True"
   ]
  },
  {
   "cell_type": "code",
   "execution_count": 21,
   "id": "398439b7-f9a2-4f17-ba3b-81b4a22d8725",
   "metadata": {},
   "outputs": [
    {
     "data": {
      "text/plain": [
       "False"
      ]
     },
     "execution_count": 21,
     "metadata": {},
     "output_type": "execute_result"
    }
   ],
   "source": [
    "False and True"
   ]
  },
  {
   "cell_type": "code",
   "execution_count": 22,
   "id": "f6fd5258-7a34-4f7f-bd7c-7503c0602d06",
   "metadata": {},
   "outputs": [
    {
     "data": {
      "text/plain": [
       "False"
      ]
     },
     "execution_count": 22,
     "metadata": {},
     "output_type": "execute_result"
    }
   ],
   "source": [
    "False and False"
   ]
  },
  {
   "cell_type": "code",
   "execution_count": 23,
   "id": "de8e3cb2-f8cd-4aaf-90e6-8481d1e8f1b0",
   "metadata": {},
   "outputs": [
    {
     "data": {
      "text/plain": [
       "True"
      ]
     },
     "execution_count": 23,
     "metadata": {},
     "output_type": "execute_result"
    }
   ],
   "source": [
    "#or\n",
    "True or False"
   ]
  },
  {
   "cell_type": "code",
   "execution_count": 24,
   "id": "6732c141-b04d-41b4-b6ea-08e872db63a5",
   "metadata": {},
   "outputs": [
    {
     "data": {
      "text/plain": [
       "True"
      ]
     },
     "execution_count": 24,
     "metadata": {},
     "output_type": "execute_result"
    }
   ],
   "source": [
    "False or True"
   ]
  },
  {
   "cell_type": "code",
   "execution_count": 25,
   "id": "6270917a-14f9-44a7-bca5-5d30af2f2d0e",
   "metadata": {},
   "outputs": [
    {
     "data": {
      "text/plain": [
       "True"
      ]
     },
     "execution_count": 25,
     "metadata": {},
     "output_type": "execute_result"
    }
   ],
   "source": [
    "True or True"
   ]
  },
  {
   "cell_type": "code",
   "execution_count": 26,
   "id": "72f6305d-9666-4472-8114-a8f4993d22d2",
   "metadata": {},
   "outputs": [
    {
     "data": {
      "text/plain": [
       "18"
      ]
     },
     "execution_count": 26,
     "metadata": {},
     "output_type": "execute_result"
    }
   ],
   "source": [
    "#assignment operator>>assigns the value of its right-hand operand to a variable, a property, or an indexer element given by its left-hand operand\n",
    "i = 8\n",
    "i+10"
   ]
  },
  {
   "cell_type": "code",
   "execution_count": 27,
   "id": "45e0a1cd-c402-4c82-9e73-2f216a1124fb",
   "metadata": {},
   "outputs": [
    {
     "data": {
      "text/plain": [
       "False"
      ]
     },
     "execution_count": 27,
     "metadata": {},
     "output_type": "execute_result"
    }
   ],
   "source": [
    "#identity operator\n",
    "i = 7\n",
    "j = 9\n",
    "i is j"
   ]
  },
  {
   "cell_type": "code",
   "execution_count": 28,
   "id": "03c3d80c-e2e2-4707-a77a-aaa26fdb30ff",
   "metadata": {},
   "outputs": [],
   "source": [
    "i=j"
   ]
  },
  {
   "cell_type": "code",
   "execution_count": 29,
   "id": "aedcfdf6-502f-421b-87be-cfc053e90698",
   "metadata": {},
   "outputs": [
    {
     "data": {
      "text/plain": [
       "9"
      ]
     },
     "execution_count": 29,
     "metadata": {},
     "output_type": "execute_result"
    }
   ],
   "source": [
    "i"
   ]
  },
  {
   "cell_type": "code",
   "execution_count": 30,
   "id": "ee1def03-aa0a-4348-9af5-daa36efe8b94",
   "metadata": {},
   "outputs": [
    {
     "data": {
      "text/plain": [
       "True"
      ]
     },
     "execution_count": 30,
     "metadata": {},
     "output_type": "execute_result"
    }
   ],
   "source": [
    "#membership operator\n",
    "a = \"i am writing a code\"\n",
    "\"code\" in a"
   ]
  },
  {
   "cell_type": "code",
   "execution_count": 31,
   "id": "528922d7-f92e-41c8-b91e-c62c735d5624",
   "metadata": {},
   "outputs": [
    {
     "data": {
      "text/plain": [
       "True"
      ]
     },
     "execution_count": 31,
     "metadata": {},
     "output_type": "execute_result"
    }
   ],
   "source": [
    "i = \"pwskills course\"\n",
    "\"skills\" in i"
   ]
  },
  {
   "cell_type": "code",
   "execution_count": 32,
   "id": "0dcfb793-77d5-4807-bda7-577bcb267298",
   "metadata": {},
   "outputs": [
    {
     "data": {
      "text/plain": [
       "False"
      ]
     },
     "execution_count": 32,
     "metadata": {},
     "output_type": "execute_result"
    }
   ],
   "source": [
    "j = \"weather is rainy\"\n",
    "\"Rainy\" in j\n",
    "# false, because of R"
   ]
  },
  {
   "cell_type": "code",
   "execution_count": 33,
   "id": "c2c03847-b36c-4642-8e6b-c84701033240",
   "metadata": {},
   "outputs": [
    {
     "data": {
      "text/plain": [
       "101"
      ]
     },
     "execution_count": 33,
     "metadata": {},
     "output_type": "execute_result"
    }
   ],
   "source": [
    "#bitwise operator\n",
    "103&109"
   ]
  },
  {
   "cell_type": "code",
   "execution_count": 34,
   "id": "02e32206-7e1f-4cf5-8d10-e720f81ba761",
   "metadata": {},
   "outputs": [
    {
     "data": {
      "text/plain": [
       "'0b1100111'"
      ]
     },
     "execution_count": 34,
     "metadata": {},
     "output_type": "execute_result"
    }
   ],
   "source": [
    "bin(103)"
   ]
  },
  {
   "cell_type": "code",
   "execution_count": 35,
   "id": "69ebd5de-5f86-4c56-8782-542874ef1853",
   "metadata": {},
   "outputs": [
    {
     "data": {
      "text/plain": [
       "'0b1101101'"
      ]
     },
     "execution_count": 35,
     "metadata": {},
     "output_type": "execute_result"
    }
   ],
   "source": [
    "bin(109)"
   ]
  },
  {
   "cell_type": "code",
   "execution_count": 36,
   "id": "04da8567-6e72-46e1-aa03-e94d035880a2",
   "metadata": {},
   "outputs": [],
   "source": [
    "#1100111(103)\n",
    "#1100110(109)\n",
    "#1100101(101)\n",
    "# by comparing the answer is 101"
   ]
  },
  {
   "cell_type": "code",
   "execution_count": 37,
   "id": "4a80c84d-1e5f-4020-b6ec-15f966e1bbc8",
   "metadata": {},
   "outputs": [
    {
     "data": {
      "text/plain": [
       "'0b1100101'"
      ]
     },
     "execution_count": 37,
     "metadata": {},
     "output_type": "execute_result"
    }
   ],
   "source": [
    "bin(101)"
   ]
  },
  {
   "cell_type": "code",
   "execution_count": 38,
   "id": "0eed8302-b326-48c3-b202-8472f74625e8",
   "metadata": {},
   "outputs": [
    {
     "data": {
      "text/plain": [
       "245"
      ]
     },
     "execution_count": 38,
     "metadata": {},
     "output_type": "execute_result"
    }
   ],
   "source": [
    "# Q5 explain the concept of type casting in Python with examples\n",
    "# In python type casting refers to the process of converting a variable from one data type to another .this is particularly useful when you need to\n",
    "# perform aperation that involves data types or when you want to ensure consistency in your programme.\n",
    "#type casting are of two types implicit and explicit.\n",
    "i = 100\n",
    "j = 145\n",
    "i+j"
   ]
  },
  {
   "cell_type": "code",
   "execution_count": 39,
   "id": "7674dc25-f195-4dc7-84af-3464ada804a1",
   "metadata": {},
   "outputs": [],
   "source": [
    "i=100"
   ]
  },
  {
   "cell_type": "code",
   "execution_count": 40,
   "id": "ac9eea48-68eb-427e-8bba-94fef7edf136",
   "metadata": {},
   "outputs": [
    {
     "data": {
      "text/plain": [
       "int"
      ]
     },
     "execution_count": 40,
     "metadata": {},
     "output_type": "execute_result"
    }
   ],
   "source": [
    "type(i)"
   ]
  },
  {
   "cell_type": "code",
   "execution_count": 41,
   "id": "637c3d8e-1d56-4340-8d0c-d86e9a6fb749",
   "metadata": {},
   "outputs": [
    {
     "data": {
      "text/plain": [
       "float"
      ]
     },
     "execution_count": 41,
     "metadata": {},
     "output_type": "execute_result"
    }
   ],
   "source": [
    "j = 145.8\n",
    "type(j)"
   ]
  },
  {
   "cell_type": "code",
   "execution_count": 42,
   "id": "21538e0e-d96f-4ae9-ba9b-4957568c8701",
   "metadata": {},
   "outputs": [
    {
     "data": {
      "text/plain": [
       "str"
      ]
     },
     "execution_count": 42,
     "metadata": {},
     "output_type": "execute_result"
    }
   ],
   "source": [
    "i = 800\n",
    "i =str(i)\n",
    "type(i)\n",
    "#now i which is a integer changed into string,now the value of i will be written under single quote."
   ]
  },
  {
   "cell_type": "code",
   "execution_count": 43,
   "id": "05e0c8d6-da4c-4369-bfb9-a17696afcf5a",
   "metadata": {},
   "outputs": [
    {
     "data": {
      "text/plain": [
       "'800'"
      ]
     },
     "execution_count": 43,
     "metadata": {},
     "output_type": "execute_result"
    }
   ],
   "source": [
    "i"
   ]
  },
  {
   "cell_type": "code",
   "execution_count": 44,
   "id": "82cdfd88-9fa3-4e5e-b276-c1ac88e15899",
   "metadata": {},
   "outputs": [
    {
     "name": "stdout",
     "output_type": "stream",
     "text": [
      "this is a room temp\n"
     ]
    }
   ],
   "source": [
    "# Q6 How do conditional statements work in Python? Illustrate with examples.\n",
    "#Like every other programming language, Python also has some predefined conditional statements. A conditional statement as the name suggests itself,\n",
    "#is used to handle conditions in your program\n",
    "#if\n",
    "temp=25\n",
    "if temp==25:\n",
    "    print(\"this is a room temp\")"
   ]
  },
  {
   "cell_type": "code",
   "execution_count": 45,
   "id": "0d6cce90-9a35-4cb0-9f5e-5a7981a8ccc7",
   "metadata": {},
   "outputs": [
    {
     "name": "stdout",
     "output_type": "stream",
     "text": [
      "x is less than equal to 5\n"
     ]
    }
   ],
   "source": [
    "#if-else\n",
    "\n",
    "x = -1\n",
    "if x>5:\n",
    "    print(\"x is greater than 5\")\n",
    "else:\n",
    "    print(\"x is less than equal to 5\")"
   ]
  },
  {
   "cell_type": "code",
   "execution_count": 46,
   "id": "5194aa76-0cd1-47cb-a7ea-355d6148a481",
   "metadata": {},
   "outputs": [
    {
     "name": "stdout",
     "output_type": "stream",
     "text": [
      "very  poor the grade is C\n"
     ]
    }
   ],
   "source": [
    "#if-elif -else     \n",
    "score=45\n",
    "if (score>=95):\n",
    "    print(\"outstanding the grade is A+\")\n",
    "elif(85<=score<95):\n",
    "    print(\"very good the grade is A\")\n",
    "elif(75<=score<=85):\n",
    "    print(\"good the grade is B+\")\n",
    "elif(65<=score<=75):\n",
    "    print(\"study hard the grade is B\")\n",
    "elif(50<=score<=65):\n",
    "    print(\"poor the grade is C+\")\n",
    "elif(35<=score<=50):\n",
    "    print(\"very  poor the grade is C\")\n",
    "else:\n",
    "    print(\"sorry you are fail\")"
   ]
  },
  {
   "cell_type": "code",
   "execution_count": 47,
   "id": "4f1f7e69-c083-4fe8-ad2b-0387d3c815ca",
   "metadata": {},
   "outputs": [
    {
     "name": "stdout",
     "output_type": "stream",
     "text": [
      "1\n",
      "2\n"
     ]
    }
   ],
   "source": [
    "# Q7 Describe the different types of loops in Python and their use cases with examples.\n",
    "#while\n",
    "n = 7\n",
    "i = 1\n",
    "while i < n:\n",
    "    print(i)\n",
    "    i = i + 1\n",
    "    if i ==3:\n",
    "        break\n",
    "else:\n",
    "        print(\"This will be executed when the while loop is run succesfully without any break\")"
   ]
  },
  {
   "cell_type": "code",
   "execution_count": 48,
   "id": "233bf6fe-5f73-4180-99c9-c68a50cd3795",
   "metadata": {},
   "outputs": [
    {
     "name": "stdout",
     "output_type": "stream",
     "text": [
      "2\n",
      "4\n",
      "5\n",
      "6\n",
      "7\n",
      "This will be executed when the while loop is run succesfully without any break\n"
     ]
    }
   ],
   "source": [
    "n = 7\n",
    "i = 1\n",
    "while i < n:\n",
    "    i = i + 1\n",
    "    if i == 3:\n",
    "        continue\n",
    "    print(i)\n",
    "else:\n",
    "        print(\"This will be executed when the while loop is run succesfully without any break\")"
   ]
  },
  {
   "cell_type": "code",
   "execution_count": 49,
   "id": "9c570215-47a8-4340-b956-3f8cbdc5e2b3",
   "metadata": {},
   "outputs": [
    {
     "name": "stdout",
     "output_type": "stream",
     "text": [
      "p\n",
      "w\n",
      "s\n",
      "k\n",
      "i\n",
      "l\n",
      "l\n",
      "s\n"
     ]
    }
   ],
   "source": [
    "#for loop\n",
    "a=\"pwskills\"\n",
    "for i in a:\n",
    "    print(i)"
   ]
  },
  {
   "cell_type": "code",
   "execution_count": 50,
   "id": "4a9beb39-9566-4a67-b11b-f61d270574a6",
   "metadata": {},
   "outputs": [
    {
     "name": "stdout",
     "output_type": "stream",
     "text": [
      "* * * * \n",
      "* * * * \n",
      "* * * * \n",
      "* * * * \n"
     ]
    }
   ],
   "source": [
    "for i in range(4):\n",
    "    for j in range (4):\n",
    "        print(\"*\", end = \" \")\n",
    "    print()"
   ]
  },
  {
   "cell_type": "code",
   "execution_count": 51,
   "id": "710449fb-1b6e-4791-bad3-180a418dc403",
   "metadata": {},
   "outputs": [
    {
     "name": "stdout",
     "output_type": "stream",
     "text": [
      "* \n",
      "* * \n",
      "* * * \n",
      "* * * * \n"
     ]
    }
   ],
   "source": [
    "for i in range(4):\n",
    "    for j in range (i+1):\n",
    "        print(\"*\", end=\" \")\n",
    "    print()"
   ]
  },
  {
   "cell_type": "code",
   "execution_count": null,
   "id": "9abec3a3-0122-405b-a6e5-fa922040b0b8",
   "metadata": {},
   "outputs": [],
   "source": []
  }
 ],
 "metadata": {
  "kernelspec": {
   "display_name": "Python 3 (ipykernel)",
   "language": "python",
   "name": "python3"
  },
  "language_info": {
   "codemirror_mode": {
    "name": "ipython",
    "version": 3
   },
   "file_extension": ".py",
   "mimetype": "text/x-python",
   "name": "python",
   "nbconvert_exporter": "python",
   "pygments_lexer": "ipython3",
   "version": "3.10.8"
  }
 },
 "nbformat": 4,
 "nbformat_minor": 5
}
